{
 "cells": [
  {
   "cell_type": "markdown",
   "metadata": {},
   "source": [
    "### This document explains the velocity alteration for the dataset OpenDS-CTS02.\n",
    "\n",
    "If we could use real velocities (in meter per seconds) without restrictions, we would take\n",
    "```\n",
    "walk = [1.3, 1.5, 1.7]\n",
    "walk_fast = [1.9, 2.1, 2.3]\n",
    "jog = [2.7, 3.3, 3.9]\n",
    "```\n",
    "\n",
    "Since OpenDS limits the velocity to a maximum of around 2,5 m/s, we restrict the velocities to:\n",
    "```\n",
    "walk = [1.3, 1.5, 1.7]\n",
    "walk_fast = [1.9, 2.1, 2.3, 2.5]\n",
    "```\n",
    "\n",
    "And since OpenDS doesn't work with m/s but with `velocityFactor`, we use the following converted values:\n",
    "```\n",
    "walk = [1.6, 1.8, 2.2]\n",
    "walk_fast = [2.6, 3.0, 4.0, 5.2]\n",
    "```"
   ]
  },
  {
   "cell_type": "code",
   "execution_count": 1,
   "metadata": {},
   "outputs": [],
   "source": [
    "import numpy as np\n",
    "import pandas as pd\n",
    "walk = [1.6, 1.8, 2.2]\n",
    "walk_fast = [2.6, 3.0, 4.0, 5.2]"
   ]
  },
  {
   "cell_type": "markdown",
   "metadata": {},
   "source": [
    "### Scenario 1\n",
    "\n",
    "Pedestrians that crosses the street:\n",
    "* Action sequence 1: v_1 in walk\n",
    "* Action sequence 2: v_2 = v_1\n",
    "* Action sequence 3: v_3 >= v_2 and v_3 in walk + walk_fast\n",
    "* Action sequence 4: v_4 >= v_3 and v_4 in walk + walk_fast\n",
    "\n",
    "Pedestrian that doesn't cross:\n",
    "* Action sequence 1: v'_1 = v_1\n",
    "* Action sequence 2: v'_2 <= v'_1 and v_2 in walk\n",
    "* Action sequence 3: no velocity variation here\n",
    "\n",
    "This makes 115 different videos per action-file pair, see calculation below."
   ]
  },
  {
   "cell_type": "code",
   "execution_count": 3,
   "metadata": {},
   "outputs": [
    {
     "output_type": "execute_result",
     "data": {
      "text/plain": "115"
     },
     "metadata": {},
     "execution_count": 3
    }
   ],
   "source": [
    "# Scenario 1, p1 denotes the pedestrian that crosses\n",
    "amount_1 = 0\n",
    "for v_1 in walk:\n",
    "    v_2 = v_1\n",
    "    for v_3 in walk + walk_fast:\n",
    "        if v_3 >= v_2:\n",
    "            for v_4 in walk + walk_fast:\n",
    "                if v_4 >= v_3:\n",
    "                    w_1 = v_1\n",
    "                    for w_2 in walk:\n",
    "                        if w_2 <= w_1:\n",
    "                            amount_1 += 1\n",
    "\n",
    "amount_1"
   ]
  },
  {
   "cell_type": "markdown",
   "metadata": {},
   "source": [
    "### Scenario 2\n",
    "\n",
    "Pedestrians that crosses the street:\n",
    "* Action sequence 1: v_1 in walk\n",
    "* Action sequence 2: v_2 = v_1\n",
    "* Action sequence 3: v_3 >= v_2 and v_3 in walk + walk_fast\n",
    "* Action sequence 4: v_4 >= v_3 and v_4 in walk + walk_fast\n",
    "\n",
    "Pedestrian that doesn't cross:\n",
    "* Action sequence 1: v'_1 = v_1\n",
    "* Action sequence 2: v'_2 <= v'_1 and v'_2 in walk\n",
    "* Action sequence 3: v'_3 = v'_2\n",
    "* Action sequence 4: v'_4 >= v'3 walk\n",
    "\n",
    "This makes 279 different videos per action-file pair, see calculation below."
   ]
  },
  {
   "cell_type": "code",
   "execution_count": 4,
   "metadata": {},
   "outputs": [
    {
     "output_type": "execute_result",
     "data": {
      "text/plain": "279"
     },
     "metadata": {},
     "execution_count": 4
    }
   ],
   "source": [
    "# Scenario 2\n",
    "amount_2 = 0\n",
    "for v_1 in walk:\n",
    "    v_2 = v_1\n",
    "    for v_3 in walk + walk_fast:\n",
    "        if v_3 >= v_2:\n",
    "            for v_4 in walk + walk_fast:\n",
    "                if v_4 >= v_3:\n",
    "                    w_1 = v_1\n",
    "                    for w_2 in walk:\n",
    "                        if w_2 <= w_1:\n",
    "                            w_3 = w_2\n",
    "                            for w_4 in walk:\n",
    "                                if w_3 <= w_4:\n",
    "                                    amount_2 += 1\n",
    "amount_2"
   ]
  },
  {
   "cell_type": "markdown",
   "metadata": {},
   "source": [
    "### Scenario 3 (a+b)\n",
    "\n",
    "Pedestrians that crosses the street:\n",
    "* Action sequence 1: v_1 in walk\n",
    "* Action sequence 2: v_2 = v_1\n",
    "* Action sequence 3: v_3 >= v_2 and v_3 in walk + walk_fast\n",
    "* Action sequence 4: v_4 >= v_3 and v_4 in walk + walk_fast\n",
    "\n",
    "Pedestrian that doesn't cross:\n",
    "* Pick random velocity (v' in walk) keep it constant for all action sequences\n",
    "\n",
    "This makes 192 different videos per action-file pair, see calculation below."
   ]
  },
  {
   "cell_type": "code",
   "execution_count": 5,
   "metadata": {},
   "outputs": [
    {
     "output_type": "execute_result",
     "data": {
      "text/plain": "192"
     },
     "metadata": {},
     "execution_count": 5
    }
   ],
   "source": [
    "# Scenario 3\n",
    "amount_3 = 0\n",
    "for v_1 in walk:\n",
    "    v_2 = v_1\n",
    "    for v_3 in walk + walk_fast:\n",
    "        if v_3 >= v_2:\n",
    "            for v_4 in walk + walk_fast:\n",
    "                if v_4 >= v_3:\n",
    "                    for w_1 in walk:\n",
    "                        amount_3 += 1\n",
    "\n",
    "amount_3"
   ]
  },
  {
   "cell_type": "markdown",
   "metadata": {},
   "source": [
    "### Scenes 0402 and 0404\n",
    "\n",
    "Pedestrians that crosses the street:\n",
    "* Action sequence 1: v_1 in walk\n",
    "* Action sequence 2: v_2 = v_1\n",
    "* Action sequence 3: v_3 >= v_2 and v_3 in walk + walk_fast\n",
    "* Action sequence 4: v_4 >= v_3 and v_4 in walk + walk_fast\n",
    "\n",
    "Pedestrian that doesn't cross:\n",
    "* Nothing to do\n",
    "\n",
    "This makes 64 different videos per action-file pair, see calculation below."
   ]
  },
  {
   "cell_type": "code",
   "execution_count": 6,
   "metadata": {},
   "outputs": [
    {
     "output_type": "execute_result",
     "data": {
      "text/plain": "64"
     },
     "metadata": {},
     "execution_count": 6
    }
   ],
   "source": [
    "# 0402 and 0404\n",
    "amount_4_1 = 0\n",
    "for v_1 in walk:\n",
    "    v_2 = v_1\n",
    "    for v_3 in walk + walk_fast:\n",
    "        if v_3 >= v_2:\n",
    "            for v_4 in walk + walk_fast:\n",
    "                if v_4 >= v_3:\n",
    "                    amount_4_1 += 1\n",
    "\n",
    "amount_4_1"
   ]
  },
  {
   "cell_type": "markdown",
   "metadata": {},
   "source": [
    "### Scene 0403\n",
    "\n",
    "Pedestrians that crosses the street:\n",
    "* Action sequence 1 to (last-1): nothing to do\n",
    "* Action sequence #last: v in walk\n",
    "\n",
    "Pedestrian that doesn't cross:\n",
    "* Action sequence 1: v'_1 in walk\n",
    "* Action sequence 2: v'_2 = v'_1\n",
    "* Action sequence 3: v'_3 = v'_2\n",
    "* Action sequence 4: v'_4 = v'_3\n",
    "\n",
    "This makes 9 different videos per action-file pair, see calculation below."
   ]
  },
  {
   "cell_type": "code",
   "execution_count": 7,
   "metadata": {},
   "outputs": [
    {
     "output_type": "execute_result",
     "data": {
      "text/plain": "9"
     },
     "metadata": {},
     "execution_count": 7
    }
   ],
   "source": [
    "# 0403\n",
    "amount_4_2 = 0\n",
    "for v in walk:\n",
    "    for w in walk:\n",
    "        amount_4_2 += 1\n",
    "\n",
    "amount_4_2"
   ]
  },
  {
   "cell_type": "markdown",
   "metadata": {},
   "source": [
    "### Scenario 5\n",
    "\n",
    "Pedestrians that crosses the street:\n",
    "* Action sequence 1: v_1 in walk\n",
    "* Action sequence 2: v_2 = v_1\n",
    "* Action sequence 3: v_3 >= v_2 and v_3 in walk + walk_fast\n",
    "* Action sequence 4: v_4 >= v_3 and v_4 in walk + walk_fast\n",
    "\n",
    "Pedestrian that doesn't cross:\n",
    "* Pick random velocity (v' in walk) keep it constant for all action sequences\n",
    "\n",
    "This makes 192 different videos per action-file pair, see calculation below."
   ]
  },
  {
   "cell_type": "code",
   "execution_count": 8,
   "metadata": {},
   "outputs": [
    {
     "output_type": "execute_result",
     "data": {
      "text/plain": "192"
     },
     "metadata": {},
     "execution_count": 8
    }
   ],
   "source": [
    "# Scenario 5\n",
    "amount_5 = 0\n",
    "for v_1 in walk:\n",
    "    v_2 = v_1\n",
    "    for v_3 in walk + walk_fast:\n",
    "        if v_3 >= v_2:\n",
    "            for v_4 in walk + walk_fast:\n",
    "                if v_4 >= v_3:\n",
    "                    for w in walk:\n",
    "                        amount_5 = amount_5 + 1\n",
    "\n",
    "amount_5"
   ]
  },
  {
   "cell_type": "markdown",
   "metadata": {},
   "source": [
    "### Scenario 6 (no pedestrian crosses)\n",
    "\n",
    "Pick random velocity (v in walk + walk_fast) for each pedestrian and keep it constant\n",
    "\n",
    "This makes 49 different videos per action-file pair, see calculation below."
   ]
  },
  {
   "cell_type": "code",
   "execution_count": 9,
   "metadata": {},
   "outputs": [
    {
     "output_type": "execute_result",
     "data": {
      "text/plain": "49"
     },
     "metadata": {},
     "execution_count": 9
    }
   ],
   "source": [
    "# Scenario 6\n",
    "amount_6 = 0\n",
    "for v in walk + walk_fast:\n",
    "    for w in walk + walk_fast:\n",
    "        amount_6 = amount_6 + 1\n",
    "        \n",
    "amount_6"
   ]
  },
  {
   "cell_type": "markdown",
   "metadata": {},
   "source": [
    "### Scenario 7 (aka 8) (no pedestrian crosses)\n",
    "\n",
    "Pick random velocity (v in walk + walk_fast) for each pedestrian and keep it constant\n",
    "\n",
    "This makes 49 different videos per action-file pair, see calculation below."
   ]
  },
  {
   "cell_type": "code",
   "execution_count": 10,
   "metadata": {},
   "outputs": [
    {
     "output_type": "execute_result",
     "data": {
      "text/plain": "49"
     },
     "metadata": {},
     "execution_count": 10
    }
   ],
   "source": [
    "# Scenario 8\n",
    "amount_8 = 0\n",
    "for v in walk + walk_fast:\n",
    "    for w in walk + walk_fast:\n",
    "        amount_8 = amount_8 + 1\n",
    "\n",
    "amount_8"
   ]
  },
  {
   "cell_type": "markdown",
   "metadata": {},
   "source": [
    "### Number of scenes per scenario\n",
    "\n",
    "Scenario 1 has 6 different scenes: `0101, 0102, 0105, 0106, 0107, 0108`\n",
    "\n",
    "Scenario 2 has 2 different scenes: `0201, 0203`\n",
    "\n",
    "Scenario 3 has 10 different scenes: `03a02, 03a03, 03a04, 03a06, 03a07, 03a08, 03b05, 03b06, 03b07, 03b12`\n",
    "\n",
    "Scenario 4_1 has 2 different scenes: `0402, 0404`\n",
    "\n",
    "Scenario 4_2 has 1 different scenes: `0403`\n",
    "\n",
    "Scenario 5 has 4 different scenes: `0503, 0505, 0506, 0508`\n",
    "\n",
    "Scenario 6 has 1 different scenes: `0603`\n",
    "\n",
    "Scenario 8 has 2 different scenes: `0801, 0802`\n",
    "\n",
    "#### Moreover, each scene has 4 reflections"
   ]
  },
  {
   "cell_type": "code",
   "execution_count": 11,
   "metadata": {},
   "outputs": [
    {
     "output_type": "execute_result",
     "data": {
      "text/plain": "16880"
     },
     "metadata": {},
     "execution_count": 11
    }
   ],
   "source": [
    "num_sc_1 = 6 * 4\n",
    "num_sc_2 = 2 * 4\n",
    "num_sc_3 = 10 * 4\n",
    "num_sc_4_1 = 2 * 4\n",
    "num_sc_4_2 = 1 * 4\n",
    "num_sc_5 = 4 * 4\n",
    "num_sc_6 = 1 * 4\n",
    "num_sc_8 = 2 * 4\n",
    "\n",
    "num_sc_1 * amount_1 + num_sc_2 * amount_2 + num_sc_3 * amount_3 + num_sc_4_1 * amount_4_1 + num_sc_4_2 * amount_4_2 + num_sc_5 * amount_5 + num_sc_6 * amount_6 + num_sc_8 * amount_8"
   ]
  },
  {
   "cell_type": "markdown",
   "metadata": {},
   "source": [
    "This results in a maximal benchmark size of `16880` (without conting additional alteration due to Atanas' variations)"
   ]
  }
 ],
 "metadata": {
  "language_info": {
   "name": "python",
   "codemirror_mode": {
    "name": "ipython",
    "version": 3
   },
   "version": "3.8.0-final"
  },
  "orig_nbformat": 2,
  "file_extension": ".py",
  "mimetype": "text/x-python",
  "name": "python",
  "npconvert_exporter": "python",
  "pygments_lexer": "ipython3",
  "version": 3,
  "kernelspec": {
   "name": "python38064bita9740e935e7c4c3e9f4a0ea12cc2aa6c",
   "display_name": "Python 3.8.0 64-bit"
  }
 },
 "nbformat": 4,
 "nbformat_minor": 2
}